{
 "cells": [
  {
   "cell_type": "code",
   "execution_count": null,
   "metadata": {},
   "outputs": [],
   "source": [
    "# @author - Nikhil Bambhroliya "
   ]
  },
  {
   "cell_type": "code",
   "execution_count": 3,
   "metadata": {},
   "outputs": [],
   "source": [
    "import numpy as np\n",
    "import pandas as pd\n",
    "from sklearn import datasets\n",
    "from sklearn.naive_bayes import GaussianNB,MultinomialNB\n",
    "from sklearn.model_selection import train_test_split\n",
    "from sklearn.metrics import confusion_matrix\n",
    "from sklearn.metrics import precision_score\n",
    "from sklearn.metrics import recall_score\n",
    "from sklearn import metrics\n",
    "from sklearn.preprocessing import LabelEncoder"
   ]
  },
  {
   "cell_type": "code",
   "execution_count": 2,
   "metadata": {},
   "outputs": [],
   "source": [
    "weather = ['Sunny','Sunny','Overcast','Rainy','Rainy','Rainy','Overcast','Sunny','Sunny','Rainy','Sunny','Overcast','Overcast','Rainy']\n",
    "\n",
    "temp = ['Hot','Hot','Hot','Mild','Cool','Cool','Cool','Mild','Cool','Mild','Mild','Mild','Hot','Mild']\n",
    "\n",
    "play=['No','No','Yes','Yes','Yes','No','Yes','No','Yes','Yes','Yes','Yes','Yes','No']"
   ]
  },
  {
   "cell_type": "code",
   "execution_count": 3,
   "metadata": {},
   "outputs": [
    {
     "name": "stdout",
     "output_type": "stream",
     "text": [
      "Weather :\n",
      " [2 2 0 1 1 1 0 2 2 1 2 0 0 1]\n",
      "\n",
      "Temperature :\n",
      " [1 1 1 2 0 0 0 2 0 2 2 2 1 2]\n",
      "\n",
      "Play :\n",
      " [0 0 1 1 1 0 1 0 1 1 1 1 1 0]\n"
     ]
    }
   ],
   "source": [
    "le = LabelEncoder()\n",
    "\n",
    "weather_encoded = le.fit_transform(weather)\n",
    "temp_encoded = le.fit_transform(temp)\n",
    "class_label = le.fit_transform(play)\n",
    "\n",
    "print(\"Weather :\\n\", weather_encoded)\n",
    "print(\"\\nTemperature :\\n\", temp_encoded)\n",
    "print(\"\\nPlay :\\n\", class_label)"
   ]
  },
  {
   "cell_type": "code",
   "execution_count": 4,
   "metadata": {},
   "outputs": [
    {
     "name": "stdout",
     "output_type": "stream",
     "text": [
      "Features :\n",
      " ((2, 1), (2, 1), (0, 1), (1, 2), (1, 0), (1, 0), (0, 0), (2, 2), (2, 0), (1, 2), (2, 2), (0, 2), (0, 1), (1, 2))\n"
     ]
    }
   ],
   "source": [
    "features = tuple(zip(weather_encoded, temp_encoded))\n",
    "\n",
    "print(\"Features :\\n\", features)"
   ]
  },
  {
   "cell_type": "code",
   "execution_count": 5,
   "metadata": {},
   "outputs": [
    {
     "data": {
      "text/plain": [
       "MultinomialNB()"
      ]
     },
     "execution_count": 5,
     "metadata": {},
     "output_type": "execute_result"
    }
   ],
   "source": [
    "model = MultinomialNB()\n",
    "model.fit(features, class_label)"
   ]
  },
  {
   "cell_type": "code",
   "execution_count": 6,
   "metadata": {},
   "outputs": [
    {
     "name": "stdout",
     "output_type": "stream",
     "text": [
      "Weather is Sunny, Temp is Mild = [[0.36151612 0.63848388]]\n"
     ]
    }
   ],
   "source": [
    "predicted = model.predict_proba([[2,2]])\n",
    "print(\"Weather is Sunny, Temp is Mild =\", predicted)"
   ]
  },
  {
   "cell_type": "code",
   "execution_count": 7,
   "metadata": {},
   "outputs": [
    {
     "name": "stdout",
     "output_type": "stream",
     "text": [
      "Features :\n",
      " ['sepal length (cm)', 'sepal width (cm)', 'petal length (cm)', 'petal width (cm)']\n",
      "\n",
      "Labels :\n",
      " ['setosa' 'versicolor' 'virginica']\n",
      "\n",
      "Data shape :  (150, 4)\n",
      "\n",
      "Traget shape :  (150,)\n",
      "\n",
      "Data type :  <class 'numpy.ndarray'>\n",
      "\n",
      "New Data shape :  (100, 4)\n",
      "\n",
      "New Traget shape :  (100,)\n"
     ]
    }
   ],
   "source": [
    "iris=datasets.load_iris()\n",
    "\n",
    "print(\"Features :\\n\", iris.feature_names)\n",
    "print(\"\\nLabels :\\n\", iris.target_names)\n",
    "\n",
    "print(\"\\nData shape : \", iris.data.shape)\n",
    "print(\"\\nTraget shape : \", iris.target.shape)\n",
    "\n",
    "# print(\"\\nData :\\n\", iris.data)\n",
    "# print(\"\\nTarget :\\n\", iris.target)\n",
    "\n",
    "print(\"\\nData type : \", type(iris.data))\n",
    "\n",
    "newdata = iris.data[50: , :]\n",
    "newtarget = iris.target[50:]\n",
    "\n",
    "print(\"\\nNew Data shape : \", newdata.shape)\n",
    "print(\"\\nNew Traget shape : \", newtarget.shape)"
   ]
  },
  {
   "cell_type": "code",
   "execution_count": 8,
   "metadata": {},
   "outputs": [
    {
     "name": "stdout",
     "output_type": "stream",
     "text": [
      "Accuracy : 0.9333333333333333\n",
      "\n",
      "Confusion Matrix :\n",
      " [[17  1]\n",
      " [ 1 11]]\n",
      "\n",
      "precision : 0.9444444444444444\n",
      "\n",
      "recall : 0.9444444444444444\n"
     ]
    }
   ],
   "source": [
    "data_train, data_test, target_train, target_test = train_test_split(newdata, newtarget, test_size = 0.30, random_state = 9)\n",
    "\n",
    "gnb = GaussianNB()\n",
    "\n",
    "gnb.fit(data_train, target_train)\n",
    "\n",
    "target_pred = gnb.predict(data_test)\n",
    "\n",
    "print(\"Accuracy :\", metrics.accuracy_score(target_test, target_pred))\n",
    "print(\"\\nConfusion Matrix :\\n\", confusion_matrix(target_test, target_pred))\n",
    "\n",
    "precision = precision_score(target_test, target_pred)\n",
    "recall = recall_score(target_test, target_pred)\n",
    "\n",
    "print('\\nprecision :', precision)\n",
    "print('\\nrecall :', recall)"
   ]
  },
  {
   "cell_type": "markdown",
   "metadata": {},
   "source": [
    "# Task 1: \n",
    "Try the algo on Dataset1 - OneHotEncoding of features: and Train test Division 70%-30%"
   ]
  },
  {
   "cell_type": "code",
   "execution_count": 67,
   "metadata": {},
   "outputs": [
    {
     "name": "stdout",
     "output_type": "stream",
     "text": [
      "   Outlook Temp Humidity Wind Play\n",
      "0        R    H   Normal    F    N\n",
      "1        R    H     High    T    N\n",
      "2        O    H   Normal    F    Y\n",
      "3        S    M   Normal    F    Y\n",
      "4        S    C   Normal    F    Y\n",
      "5        S    C      Low    T    N\n",
      "6        O    C   Normal    T    Y\n",
      "7        R    M   Normal    F    N\n",
      "8        R    C      Low    F    Y\n",
      "9        S    M     High    F    Y\n",
      "10       R    M     High    T    Y\n",
      "11       O    M      Low    T    Y\n",
      "12       O    H   Normal    F    Y\n",
      "13       S    M   Normal    T    N\n"
     ]
    }
   ],
   "source": [
    "import numpy as np\n",
    "import pandas as pd\n",
    "from sklearn import datasets\n",
    "from sklearn.naive_bayes import GaussianNB,MultinomialNB\n",
    "from sklearn.model_selection import train_test_split\n",
    "from sklearn.metrics import confusion_matrix\n",
    "from sklearn.metrics import precision_score\n",
    "from sklearn.metrics import recall_score\n",
    "from sklearn import metrics\n",
    "from sklearn.preprocessing import LabelEncoder\n",
    "data=pd.read_csv('Dataset1.csv')\n",
    "print(data)"
   ]
  },
  {
   "cell_type": "code",
   "execution_count": 65,
   "metadata": {},
   "outputs": [
    {
     "name": "stdout",
     "output_type": "stream",
     "text": [
      "encoded data: \n",
      "     O  R  S  C  H  M  High  Low  Normal  F  T  Play\n",
      "0   0  1  0  0  1  0     0    0       1  1  0     0\n",
      "1   0  1  0  0  1  0     1    0       0  0  1     0\n",
      "2   1  0  0  0  1  0     0    0       1  1  0     1\n",
      "3   0  0  1  0  0  1     0    0       1  1  0     1\n",
      "4   0  0  1  1  0  0     0    0       1  1  0     1\n",
      "5   0  0  1  1  0  0     0    1       0  0  1     0\n",
      "6   1  0  0  1  0  0     0    0       1  0  1     1\n",
      "7   0  1  0  0  0  1     0    0       1  1  0     0\n",
      "8   0  1  0  1  0  0     0    1       0  1  0     1\n",
      "9   0  0  1  0  0  1     1    0       0  1  0     1\n",
      "10  0  1  0  0  0  1     1    0       0  0  1     1\n",
      "11  1  0  0  0  0  1     0    1       0  0  1     1\n",
      "12  1  0  0  0  1  0     0    0       1  1  0     1\n",
      "13  0  0  1  0  0  1     0    0       1  0  1     0\n"
     ]
    }
   ],
   "source": [
    "\n",
    "o=data['Outlook']\n",
    "outlook=pd.get_dummies(o)\n",
    "t=data['Temp']\n",
    "temp=pd.get_dummies(t)\n",
    "h=data['Humidity']\n",
    "humidity=pd.get_dummies(h)\n",
    "w=data['Wind']\n",
    "wind=pd.get_dummies(w)\n",
    "le=LabelEncoder()\n",
    "data.iloc[:,-1]=le.fit_transform(data['Play'])\n",
    "\n",
    "data = data.drop(['Outlook', 'Temp', 'Humidity', 'Wind'], axis = 1)\n",
    "data = pd.concat([outlook, temp, humidity, wind, data], axis = 1)\n",
    "\n",
    "print(\"encoded data: \\n\",data)"
   ]
  },
  {
   "cell_type": "code",
   "execution_count": 66,
   "metadata": {},
   "outputs": [
    {
     "name": "stdout",
     "output_type": "stream",
     "text": [
      "Features : \n",
      "     O  R  S  C  H  M  High  Low  Normal  F  T\n",
      "0   0  1  0  0  1  0     0    0       1  1  0\n",
      "1   0  1  0  0  1  0     1    0       0  0  1\n",
      "2   1  0  0  0  1  0     0    0       1  1  0\n",
      "3   0  0  1  0  0  1     0    0       1  1  0\n",
      "4   0  0  1  1  0  0     0    0       1  1  0\n",
      "5   0  0  1  1  0  0     0    1       0  0  1\n",
      "6   1  0  0  1  0  0     0    0       1  0  1\n",
      "7   0  1  0  0  0  1     0    0       1  1  0\n",
      "8   0  1  0  1  0  0     0    1       0  1  0\n",
      "9   0  0  1  0  0  1     1    0       0  1  0\n",
      "10  0  1  0  0  0  1     1    0       0  0  1\n",
      "11  1  0  0  0  0  1     0    1       0  0  1\n",
      "12  1  0  0  0  1  0     0    0       1  1  0\n",
      "13  0  0  1  0  0  1     0    0       1  0  1\n"
     ]
    }
   ],
   "source": [
    "features=data.iloc[:,:-1]\n",
    "labels=data.iloc[:,-1]\n",
    "print(\"Features : \\n\",features)"
   ]
  },
  {
   "cell_type": "code",
   "execution_count": 69,
   "metadata": {},
   "outputs": [
    {
     "name": "stdout",
     "output_type": "stream",
     "text": [
      "Accuracy : 0.6\n",
      "\n",
      "Confusion Matrix :\n",
      " [[1 1]\n",
      " [1 2]]\n",
      "\n",
      "precision : 0.6666666666666666\n",
      "\n",
      "recall : 0.6666666666666666\n"
     ]
    }
   ],
   "source": [
    "data_train,data_test,tar_train,tar_test=train_test_split(features,labels,test_size=0.30,random_state=60)\n",
    "\n",
    "gnd=GaussianNB()\n",
    "\n",
    "gnd.fit(data_train,tar_train)\n",
    "tar_pred=gnd.predict(data_test)\n",
    "print(\"Accuracy :\",metrics.accuracy_score(tar_test,tar_pred))\n",
    "\n",
    "print(\"\\nConfusion Matrix :\\n\", confusion_matrix(tar_test, tar_pred))\n",
    "\n",
    "precision = precision_score(tar_test, tar_pred)\n",
    "recall = recall_score(tar_test, tar_pred)\n",
    "\n",
    "print('\\nprecision :', precision)\n",
    "print('\\nrecall :', recall)"
   ]
  },
  {
   "cell_type": "markdown",
   "metadata": {},
   "source": [
    "# TASK2\n",
    "Apply algorithm on digits dataset - LabelEncoding of features: and Train test Division 80%-20%"
   ]
  },
  {
   "cell_type": "code",
   "execution_count": 87,
   "metadata": {},
   "outputs": [
    {
     "data": {
      "text/html": [
       "<div>\n",
       "<style scoped>\n",
       "    .dataframe tbody tr th:only-of-type {\n",
       "        vertical-align: middle;\n",
       "    }\n",
       "\n",
       "    .dataframe tbody tr th {\n",
       "        vertical-align: top;\n",
       "    }\n",
       "\n",
       "    .dataframe thead th {\n",
       "        text-align: right;\n",
       "    }\n",
       "</style>\n",
       "<table border=\"1\" class=\"dataframe\">\n",
       "  <thead>\n",
       "    <tr style=\"text-align: right;\">\n",
       "      <th></th>\n",
       "      <th>Length</th>\n",
       "      <th>Diameter</th>\n",
       "      <th>Height</th>\n",
       "      <th>Weight</th>\n",
       "      <th>Age</th>\n",
       "    </tr>\n",
       "  </thead>\n",
       "  <tbody>\n",
       "    <tr>\n",
       "      <th>0</th>\n",
       "      <td>5</td>\n",
       "      <td>4</td>\n",
       "      <td>4</td>\n",
       "      <td>2</td>\n",
       "      <td>18</td>\n",
       "    </tr>\n",
       "    <tr>\n",
       "      <th>1</th>\n",
       "      <td>6</td>\n",
       "      <td>5</td>\n",
       "      <td>3</td>\n",
       "      <td>3</td>\n",
       "      <td>10</td>\n",
       "    </tr>\n",
       "    <tr>\n",
       "      <th>2</th>\n",
       "      <td>4</td>\n",
       "      <td>6</td>\n",
       "      <td>2</td>\n",
       "      <td>5</td>\n",
       "      <td>10</td>\n",
       "    </tr>\n",
       "    <tr>\n",
       "      <th>3</th>\n",
       "      <td>3</td>\n",
       "      <td>2</td>\n",
       "      <td>1</td>\n",
       "      <td>6</td>\n",
       "      <td>18</td>\n",
       "    </tr>\n",
       "    <tr>\n",
       "      <th>4</th>\n",
       "      <td>4</td>\n",
       "      <td>4</td>\n",
       "      <td>2</td>\n",
       "      <td>6</td>\n",
       "      <td>10</td>\n",
       "    </tr>\n",
       "    <tr>\n",
       "      <th>5</th>\n",
       "      <td>5</td>\n",
       "      <td>2</td>\n",
       "      <td>3</td>\n",
       "      <td>5</td>\n",
       "      <td>18</td>\n",
       "    </tr>\n",
       "    <tr>\n",
       "      <th>6</th>\n",
       "      <td>6</td>\n",
       "      <td>6</td>\n",
       "      <td>1</td>\n",
       "      <td>3</td>\n",
       "      <td>18</td>\n",
       "    </tr>\n",
       "    <tr>\n",
       "      <th>7</th>\n",
       "      <td>4</td>\n",
       "      <td>5</td>\n",
       "      <td>4</td>\n",
       "      <td>2</td>\n",
       "      <td>18</td>\n",
       "    </tr>\n",
       "    <tr>\n",
       "      <th>8</th>\n",
       "      <td>3</td>\n",
       "      <td>2</td>\n",
       "      <td>2</td>\n",
       "      <td>2</td>\n",
       "      <td>10</td>\n",
       "    </tr>\n",
       "  </tbody>\n",
       "</table>\n",
       "</div>"
      ],
      "text/plain": [
       "   Length  Diameter  Height  Weight  Age\n",
       "0       5         4       4       2   18\n",
       "1       6         5       3       3   10\n",
       "2       4         6       2       5   10\n",
       "3       3         2       1       6   18\n",
       "4       4         4       2       6   10\n",
       "5       5         2       3       5   18\n",
       "6       6         6       1       3   18\n",
       "7       4         5       4       2   18\n",
       "8       3         2       2       2   10"
      ]
     },
     "execution_count": 87,
     "metadata": {},
     "output_type": "execute_result"
    }
   ],
   "source": [
    "import numpy as np\n",
    "import pandas as pd\n",
    "from sklearn import datasets\n",
    "from sklearn.naive_bayes import GaussianNB,MultinomialNB\n",
    "from sklearn.model_selection import train_test_split\n",
    "from sklearn.metrics import confusion_matrix\n",
    "from sklearn.metrics import precision_score\n",
    "from sklearn.metrics import recall_score\n",
    "from sklearn import metrics\n",
    "from sklearn.preprocessing import LabelEncoder\n",
    "\n",
    "data = pd.read_csv(\"abalone_train.csv\",names=[\"Length\", \"Diameter\", \"Height\", \"Weight\", \"Age\"])\n",
    "data"
   ]
  },
  {
   "cell_type": "code",
   "execution_count": 88,
   "metadata": {},
   "outputs": [
    {
     "name": "stdout",
     "output_type": "stream",
     "text": [
      "\n",
      "length : 0    5\n",
      "1    6\n",
      "2    4\n",
      "3    3\n",
      "4    4\n",
      "5    5\n",
      "6    6\n",
      "7    4\n",
      "8    3\n",
      "Name: Length, dtype: int64\n",
      "\n",
      "Encoded length : [2 3 1 0 1 2 3 1 0]\n",
      "\n",
      "diameter : 0    4\n",
      "1    5\n",
      "2    6\n",
      "3    2\n",
      "4    4\n",
      "5    2\n",
      "6    6\n",
      "7    5\n",
      "8    2\n",
      "Name: Diameter, dtype: int64\n",
      "\n",
      "Encoded diameter : [1 2 3 0 1 0 3 2 0]\n",
      "\n",
      "height : 0    4\n",
      "1    3\n",
      "2    2\n",
      "3    1\n",
      "4    2\n",
      "5    3\n",
      "6    1\n",
      "7    4\n",
      "8    2\n",
      "Name: Height, dtype: int64\n",
      "\n",
      "Encoded height : [3 2 1 0 1 2 0 3 1]\n",
      "\n",
      "weight : 0    2\n",
      "1    3\n",
      "2    5\n",
      "3    6\n",
      "4    6\n",
      "5    5\n",
      "6    3\n",
      "7    2\n",
      "8    2\n",
      "Name: Weight, dtype: int64\n",
      "\n",
      "Encoded weight : [0 1 2 3 3 2 1 0 0]\n",
      "\n",
      "age : 0    18\n",
      "1    10\n",
      "2    10\n",
      "3    18\n",
      "4    10\n",
      "5    18\n",
      "6    18\n",
      "7    18\n",
      "8    10\n",
      "Name: Age, dtype: int64\n",
      "\n",
      "Encoded age : [1 0 0 1 0 1 1 1 0]\n"
     ]
    }
   ],
   "source": [
    "le=LabelEncoder()\n",
    "length=le.fit_transform(data.Length)\n",
    "print(\"\\nlength :\",data.Length)\n",
    "print(\"\\nEncoded length :\",length)\n",
    "\n",
    "diameter=le.fit_transform(data.Diameter)\n",
    "print(\"\\ndiameter :\",data.Diameter)\n",
    "print(\"\\nEncoded diameter :\",diameter)\n",
    "\n",
    "height=le.fit_transform(data.Height)\n",
    "print(\"\\nheight :\",data.Height)\n",
    "print(\"\\nEncoded height :\",height)\n",
    "\n",
    "weight=le.fit_transform(data.Weight)\n",
    "print(\"\\nweight :\",data.Weight)\n",
    "print(\"\\nEncoded weight :\",weight)\n",
    "\n",
    "res=le.fit_transform(data.Age)\n",
    "print(\"\\nage :\",data.Age)\n",
    "print(\"\\nEncoded age :\",res)\n"
   ]
  },
  {
   "cell_type": "code",
   "execution_count": 89,
   "metadata": {},
   "outputs": [
    {
     "name": "stdout",
     "output_type": "stream",
     "text": [
      "Features :  ((2, 1, 3, 0), (3, 2, 2, 1), (1, 3, 1, 2), (0, 0, 0, 3), (1, 1, 1, 3), (2, 0, 2, 2), (3, 3, 0, 1), (1, 2, 3, 0), (0, 0, 1, 0))\n"
     ]
    }
   ],
   "source": [
    "features=(tuple)(zip(length,diameter,height,weight))\n",
    "print(\"Features : \",features)"
   ]
  },
  {
   "cell_type": "code",
   "execution_count": 90,
   "metadata": {},
   "outputs": [
    {
     "name": "stdout",
     "output_type": "stream",
     "text": [
      "Predicted : [1 1]\n"
     ]
    }
   ],
   "source": [
    "model=GaussianNB()\n",
    "model.fit(features,res);\n",
    "\n",
    "predict=model.predict([[0,2,0,2],[1,0,3,0]])\n",
    "print(\"Predicted :\",predict)"
   ]
  },
  {
   "cell_type": "markdown",
   "metadata": {},
   "source": [
    "### Accuracy"
   ]
  },
  {
   "cell_type": "code",
   "execution_count": 91,
   "metadata": {},
   "outputs": [],
   "source": [
    "data_train,data_test,tar_train,tar_test=train_test_split(features,res,test_size=0.20,random_state=60)"
   ]
  },
  {
   "cell_type": "code",
   "execution_count": 92,
   "metadata": {},
   "outputs": [
    {
     "name": "stdout",
     "output_type": "stream",
     "text": [
      "Accuracy : 0.5\n"
     ]
    }
   ],
   "source": [
    "gnd=GaussianNB()\n",
    "gnd.fit(data_train,tar_train)\n",
    "tar_pred=gnd.predict(data_test)\n",
    "print(\"Accuracy :\",metrics.accuracy_score(tar_test,tar_pred))"
   ]
  },
  {
   "cell_type": "code",
   "execution_count": 93,
   "metadata": {},
   "outputs": [
    {
     "name": "stdout",
     "output_type": "stream",
     "text": [
      "Confusion Metrix:  [[0 1]\n",
      " [0 1]]\n"
     ]
    }
   ],
   "source": [
    "print(\"Confusion Metrix: \",confusion_matrix(tar_test, tar_pred))"
   ]
  },
  {
   "cell_type": "code",
   "execution_count": 94,
   "metadata": {},
   "outputs": [
    {
     "name": "stdout",
     "output_type": "stream",
     "text": [
      "Pricision : [0.  0.5]\n",
      "Recall : [0. 1.]\n"
     ]
    },
    {
     "name": "stderr",
     "output_type": "stream",
     "text": [
      "C:\\ProgramData\\Anaconda3\\lib\\site-packages\\sklearn\\metrics\\_classification.py:1221: UndefinedMetricWarning: Precision is ill-defined and being set to 0.0 in labels with no predicted samples. Use `zero_division` parameter to control this behavior.\n",
      "  _warn_prf(average, modifier, msg_start, len(result))\n"
     ]
    }
   ],
   "source": [
    "pricision=precision_score(tar_test, tar_pred,average=None)\n",
    "recall=recall_score(tar_test, tar_pred,average=None)\n",
    "print(\"Pricision : {}\".format(pricision))\n",
    "print(\"Recall : {}\".format(recall))"
   ]
  }
 ],
 "metadata": {
  "kernelspec": {
   "display_name": "Python 3",
   "language": "python",
   "name": "python3"
  },
  "language_info": {
   "codemirror_mode": {
    "name": "ipython",
    "version": 3
   },
   "file_extension": ".py",
   "mimetype": "text/x-python",
   "name": "python",
   "nbconvert_exporter": "python",
   "pygments_lexer": "ipython3",
   "version": "3.8.5"
  }
 },
 "nbformat": 4,
 "nbformat_minor": 4
}
