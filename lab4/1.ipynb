{
 "cells": [
  {
   "cell_type": "code",
   "execution_count": null,
   "metadata": {},
   "outputs": [],
   "source": [
    "# @author - Nikhil Bambhroliya"
   ]
  },
  {
   "cell_type": "markdown",
   "metadata": {
    "id": "lbtvHIYnmtXb"
   },
   "source": [
    "#Linear regression model from scratch"
   ]
  },
  {
   "cell_type": "code",
   "execution_count": 95,
   "metadata": {
    "executionInfo": {
     "elapsed": 838,
     "status": "ok",
     "timestamp": 1640587689797,
     "user": {
      "displayName": "CE009_Charvit_ Ardeshna",
      "photoUrl": "https://lh3.googleusercontent.com/a/default-user=s64",
      "userId": "16826116600872100489"
     },
     "user_tz": -330
    },
    "id": "0EJjeamxZMjD"
   },
   "outputs": [],
   "source": [
    "import numpy as np\n",
    "import torch"
   ]
  },
  {
   "cell_type": "code",
   "execution_count": 81,
   "metadata": {
    "executionInfo": {
     "elapsed": 4,
     "status": "ok",
     "timestamp": 1640587642614,
     "user": {
      "displayName": "CE009_Charvit_ Ardeshna",
      "photoUrl": "https://lh3.googleusercontent.com/a/default-user=s64",
      "userId": "16826116600872100489"
     },
     "user_tz": -330
    },
    "id": "SqBC-zhrZYI8"
   },
   "outputs": [],
   "source": [
    "inputs = np.array([[73, 67, 43],\n",
    "[91, 88, 64],\n",
    "[87, 134, 58],\n",
    "[102, 43, 37],\n",
    "[69, 96, 70]], dtype='float32')"
   ]
  },
  {
   "cell_type": "code",
   "execution_count": 82,
   "metadata": {
    "executionInfo": {
     "elapsed": 3,
     "status": "ok",
     "timestamp": 1640587644709,
     "user": {
      "displayName": "CE009_Charvit_ Ardeshna",
      "photoUrl": "https://lh3.googleusercontent.com/a/default-user=s64",
      "userId": "16826116600872100489"
     },
     "user_tz": -330
    },
    "id": "LXPk9he9ZY2j"
   },
   "outputs": [],
   "source": [
    "targets = np.array([[56],\n",
    "[81],\n",
    "[119],\n",
    "[22],\n",
    "[103]], dtype='float32')"
   ]
  },
  {
   "cell_type": "code",
   "execution_count": 83,
   "metadata": {
    "executionInfo": {
     "elapsed": 1,
     "status": "ok",
     "timestamp": 1640587646651,
     "user": {
      "displayName": "CE009_Charvit_ Ardeshna",
      "photoUrl": "https://lh3.googleusercontent.com/a/default-user=s64",
      "userId": "16826116600872100489"
     },
     "user_tz": -330
    },
    "id": "ArZR0MJSZjyL"
   },
   "outputs": [],
   "source": [
    "inputs = torch.from_numpy(inputs)\n",
    "targets = torch.from_numpy(targets)"
   ]
  },
  {
   "cell_type": "code",
   "execution_count": 84,
   "metadata": {
    "executionInfo": {
     "elapsed": 5,
     "status": "ok",
     "timestamp": 1640587648648,
     "user": {
      "displayName": "CE009_Charvit_ Ardeshna",
      "photoUrl": "https://lh3.googleusercontent.com/a/default-user=s64",
      "userId": "16826116600872100489"
     },
     "user_tz": -330
    },
    "id": "H-ZUOycfcUXs"
   },
   "outputs": [],
   "source": [
    "weight = torch.randn(2, 3, requires_grad=True)\n",
    "bias = torch.randn(2, requires_grad=True)"
   ]
  },
  {
   "cell_type": "code",
   "execution_count": 85,
   "metadata": {
    "colab": {
     "base_uri": "https://localhost:8080/"
    },
    "executionInfo": {
     "elapsed": 2,
     "status": "ok",
     "timestamp": 1640587651045,
     "user": {
      "displayName": "CE009_Charvit_ Ardeshna",
      "photoUrl": "https://lh3.googleusercontent.com/a/default-user=s64",
      "userId": "16826116600872100489"
     },
     "user_tz": -330
    },
    "id": "sizXCbvQiIDz",
    "outputId": "9979295b-0cb7-45e9-c5ce-c89b9b41aa1d"
   },
   "outputs": [
    {
     "data": {
      "text/plain": [
       "tensor([[ -73.3656,  -98.3297],\n",
       "        [ -92.2246, -142.0584],\n",
       "        [-139.1011, -222.6786],\n",
       "        [ -59.5573,  -20.0133],\n",
       "        [ -92.0101, -184.5744]], grad_fn=<AddBackward0>)"
      ]
     },
     "execution_count": 85,
     "metadata": {},
     "output_type": "execute_result"
    }
   ],
   "source": [
    "inputs @ weight.t() + bias"
   ]
  },
  {
   "cell_type": "code",
   "execution_count": 86,
   "metadata": {
    "executionInfo": {
     "elapsed": 746,
     "status": "ok",
     "timestamp": 1640587653760,
     "user": {
      "displayName": "CE009_Charvit_ Ardeshna",
      "photoUrl": "https://lh3.googleusercontent.com/a/default-user=s64",
      "userId": "16826116600872100489"
     },
     "user_tz": -330
    },
    "id": "N4IPk4sYhbPz"
   },
   "outputs": [],
   "source": [
    "def model(inputs):\n",
    "    return inputs @ weight.t() + bias"
   ]
  },
  {
   "cell_type": "code",
   "execution_count": 87,
   "metadata": {
    "colab": {
     "base_uri": "https://localhost:8080/"
    },
    "executionInfo": {
     "elapsed": 2,
     "status": "ok",
     "timestamp": 1640587655283,
     "user": {
      "displayName": "CE009_Charvit_ Ardeshna",
      "photoUrl": "https://lh3.googleusercontent.com/a/default-user=s64",
      "userId": "16826116600872100489"
     },
     "user_tz": -330
    },
    "id": "BqBCPytHiOlS",
    "outputId": "cb750028-a357-42b3-f126-e10dcfef07eb"
   },
   "outputs": [
    {
     "name": "stdout",
     "output_type": "stream",
     "text": [
      "tensor([[ -73.3656,  -98.3297],\n",
      "        [ -92.2246, -142.0584],\n",
      "        [-139.1011, -222.6786],\n",
      "        [ -59.5573,  -20.0133],\n",
      "        [ -92.0101, -184.5744]], grad_fn=<AddBackward0>)\n"
     ]
    }
   ],
   "source": [
    "prediction = model(inputs)\n",
    "print(prediction)"
   ]
  },
  {
   "cell_type": "markdown",
   "metadata": {
    "id": "elJi8_SZm1JK"
   },
   "source": [
    "##Loss function"
   ]
  },
  {
   "cell_type": "code",
   "execution_count": 88,
   "metadata": {
    "colab": {
     "base_uri": "https://localhost:8080/"
    },
    "executionInfo": {
     "elapsed": 7,
     "status": "ok",
     "timestamp": 1640587658550,
     "user": {
      "displayName": "CE009_Charvit_ Ardeshna",
      "photoUrl": "https://lh3.googleusercontent.com/a/default-user=s64",
      "userId": "16826116600872100489"
     },
     "user_tz": -330
    },
    "id": "eIMbVOhoiYEy",
    "outputId": "7f1b8335-9cea-47b9-d346-02d87dccda99"
   },
   "outputs": [
    {
     "data": {
      "text/plain": [
       "tensor(43282.0078, grad_fn=<DivBackward0>)"
      ]
     },
     "execution_count": 88,
     "metadata": {},
     "output_type": "execute_result"
    }
   ],
   "source": [
    "diff0 = prediction - targets\n",
    "torch.sum(diff0 * diff0) / diff0.numel()"
   ]
  },
  {
   "cell_type": "code",
   "execution_count": 89,
   "metadata": {
    "executionInfo": {
     "elapsed": 4,
     "status": "ok",
     "timestamp": 1640587660093,
     "user": {
      "displayName": "CE009_Charvit_ Ardeshna",
      "photoUrl": "https://lh3.googleusercontent.com/a/default-user=s64",
      "userId": "16826116600872100489"
     },
     "user_tz": -330
    },
    "id": "cFjxRJeFifGS"
   },
   "outputs": [],
   "source": [
    "def mse(t1, t2):\n",
    "    diff = t1 - t2\n",
    "    return torch.sum(diff * diff) / diff.numel()"
   ]
  },
  {
   "cell_type": "code",
   "execution_count": 90,
   "metadata": {
    "colab": {
     "base_uri": "https://localhost:8080/"
    },
    "executionInfo": {
     "elapsed": 2,
     "status": "ok",
     "timestamp": 1640587662437,
     "user": {
      "displayName": "CE009_Charvit_ Ardeshna",
      "photoUrl": "https://lh3.googleusercontent.com/a/default-user=s64",
      "userId": "16826116600872100489"
     },
     "user_tz": -330
    },
    "id": "CVxLbbe3iinK",
    "outputId": "13e66f18-a771-4ae3-8038-a98763cc0ffb"
   },
   "outputs": [
    {
     "name": "stdout",
     "output_type": "stream",
     "text": [
      "tensor(43282.0078, grad_fn=<DivBackward0>)\n"
     ]
    }
   ],
   "source": [
    "loss = mse(prediction, targets)\n",
    "print(loss)"
   ]
  },
  {
   "cell_type": "markdown",
   "metadata": {
    "id": "WAAJgHd3m6Br"
   },
   "source": [
    "##Compute gradients"
   ]
  },
  {
   "cell_type": "code",
   "execution_count": 91,
   "metadata": {
    "colab": {
     "base_uri": "https://localhost:8080/"
    },
    "executionInfo": {
     "elapsed": 2,
     "status": "ok",
     "timestamp": 1640587664457,
     "user": {
      "displayName": "CE009_Charvit_ Ardeshna",
      "photoUrl": "https://lh3.googleusercontent.com/a/default-user=s64",
      "userId": "16826116600872100489"
     },
     "user_tz": -330
    },
    "id": "DLLf2p5uirLD",
    "outputId": "7eae5b67-6182-4c5c-dcc7-09d28c20ec47"
   },
   "outputs": [
    {
     "name": "stdout",
     "output_type": "stream",
     "text": [
      "tensor([[-13887.2930, -16144.9492,  -9657.4570],\n",
      "        [-17083.6816, -21033.5762, -12482.7949]])\n",
      "tensor([-167.4517, -209.7309])\n"
     ]
    }
   ],
   "source": [
    "loss.backward()\n",
    "print(weight.grad)\n",
    "print(bias.grad)"
   ]
  },
  {
   "cell_type": "markdown",
   "metadata": {
    "id": "6S5hUvCNm_PD"
   },
   "source": [
    "##Train the model using gradient descent"
   ]
  },
  {
   "cell_type": "code",
   "execution_count": 92,
   "metadata": {
    "executionInfo": {
     "elapsed": 4,
     "status": "ok",
     "timestamp": 1640587666624,
     "user": {
      "displayName": "CE009_Charvit_ Ardeshna",
      "photoUrl": "https://lh3.googleusercontent.com/a/default-user=s64",
      "userId": "16826116600872100489"
     },
     "user_tz": -330
    },
    "id": "tcEAJI6Cjbq7"
   },
   "outputs": [],
   "source": [
    "with torch.no_grad():\n",
    "    weight -= weight.grad * 1e-5\n",
    "    bias -= bias.grad * 1e-5\n",
    "    weight.grad.zero_()\n",
    "    bias.grad.zero_()"
   ]
  },
  {
   "cell_type": "code",
   "execution_count": 97,
   "metadata": {
    "colab": {
     "base_uri": "https://localhost:8080/"
    },
    "executionInfo": {
     "elapsed": 734,
     "status": "ok",
     "timestamp": 1640587702647,
     "user": {
      "displayName": "CE009_Charvit_ Ardeshna",
      "photoUrl": "https://lh3.googleusercontent.com/a/default-user=s64",
      "userId": "16826116600872100489"
     },
     "user_tz": -330
    },
    "id": "xrsNaosnjvKD",
    "outputId": "851cacde-c53d-4848-dd98-5b51b0f49627"
   },
   "outputs": [
    {
     "name": "stdout",
     "output_type": "stream",
     "text": [
      "tensor(21364.4121, grad_fn=<DivBackward0>)\n"
     ]
    }
   ],
   "source": [
    "prediction = model(inputs)\n",
    "loss = mse(prediction, targets)\n",
    "print(loss)"
   ]
  },
  {
   "cell_type": "code",
   "execution_count": 100,
   "metadata": {
    "executionInfo": {
     "elapsed": 5,
     "status": "ok",
     "timestamp": 1640587802190,
     "user": {
      "displayName": "CE009_Charvit_ Ardeshna",
      "photoUrl": "https://lh3.googleusercontent.com/a/default-user=s64",
      "userId": "16826116600872100489"
     },
     "user_tz": -330
    },
    "id": "QuSTf2T7ot_7"
   },
   "outputs": [],
   "source": [
    "for i in range(100):\n",
    "    prediction = model(inputs)\n",
    "    loss = mse(prediction, targets)\n",
    "    loss.backward()\n",
    "    with torch.no_grad():\n",
    "        weight -= weight.grad * 1e-5\n",
    "        bias -= bias.grad * 1e-5\n",
    "        weight.grad.zero_()\n",
    "        bias.grad.zero_()"
   ]
  },
  {
   "cell_type": "code",
   "execution_count": 101,
   "metadata": {
    "colab": {
     "base_uri": "https://localhost:8080/"
    },
    "executionInfo": {
     "elapsed": 531,
     "status": "ok",
     "timestamp": 1640587807547,
     "user": {
      "displayName": "CE009_Charvit_ Ardeshna",
      "photoUrl": "https://lh3.googleusercontent.com/a/default-user=s64",
      "userId": "16826116600872100489"
     },
     "user_tz": -330
    },
    "id": "RTfF1HGhowxj",
    "outputId": "0efe4fef-bbf8-4139-aae9-c33597298e0c"
   },
   "outputs": [
    {
     "name": "stdout",
     "output_type": "stream",
     "text": [
      "tensor(913.8755, grad_fn=<DivBackward0>)\n"
     ]
    }
   ],
   "source": [
    "prediction = model(inputs)\n",
    "loss = mse(prediction, targets)\n",
    "print(loss)"
   ]
  },
  {
   "cell_type": "code",
   "execution_count": 102,
   "metadata": {
    "colab": {
     "base_uri": "https://localhost:8080/"
    },
    "executionInfo": {
     "elapsed": 565,
     "status": "ok",
     "timestamp": 1640587812651,
     "user": {
      "displayName": "CE009_Charvit_ Ardeshna",
      "photoUrl": "https://lh3.googleusercontent.com/a/default-user=s64",
      "userId": "16826116600872100489"
     },
     "user_tz": -330
    },
    "id": "uKdkBaTMo97R",
    "outputId": "1615cbae-0a3f-4dc2-e1fa-77d62d5be26e"
   },
   "outputs": [
    {
     "data": {
      "text/plain": [
       "tensor([[62.2296, 69.7153],\n",
       "        [88.4226, 85.4121],\n",
       "        [96.4126, 91.2257],\n",
       "        [51.4243, 93.9224],\n",
       "        [94.8999, 64.9022]], grad_fn=<AddBackward0>)"
      ]
     },
     "execution_count": 102,
     "metadata": {},
     "output_type": "execute_result"
    }
   ],
   "source": [
    "prediction"
   ]
  },
  {
   "cell_type": "code",
   "execution_count": 103,
   "metadata": {
    "colab": {
     "base_uri": "https://localhost:8080/"
    },
    "executionInfo": {
     "elapsed": 745,
     "status": "ok",
     "timestamp": 1640587818331,
     "user": {
      "displayName": "CE009_Charvit_ Ardeshna",
      "photoUrl": "https://lh3.googleusercontent.com/a/default-user=s64",
      "userId": "16826116600872100489"
     },
     "user_tz": -330
    },
    "id": "8jZwIKAdpACS",
    "outputId": "8b886101-5093-43cc-89c8-e7f371735a24"
   },
   "outputs": [
    {
     "data": {
      "text/plain": [
       "tensor([[ 56.],\n",
       "        [ 81.],\n",
       "        [119.],\n",
       "        [ 22.],\n",
       "        [103.]])"
      ]
     },
     "execution_count": 103,
     "metadata": {},
     "output_type": "execute_result"
    }
   ],
   "source": [
    "targets"
   ]
  }
 ],
 "metadata": {
  "colab": {
   "authorship_tag": "ABX9TyOrechJOkUqhmclxBocgzIF",
   "collapsed_sections": [],
   "name": "lab4answersPart1.ipynb",
   "provenance": []
  },
  "kernelspec": {
   "display_name": "Python 3",
   "language": "python",
   "name": "python3"
  },
  "language_info": {
   "codemirror_mode": {
    "name": "ipython",
    "version": 3
   },
   "file_extension": ".py",
   "mimetype": "text/x-python",
   "name": "python",
   "nbconvert_exporter": "python",
   "pygments_lexer": "ipython3",
   "version": "3.8.5"
  }
 },
 "nbformat": 4,
 "nbformat_minor": 1
}
