{
 "cells": [
  {
   "cell_type": "code",
   "execution_count": null,
   "metadata": {},
   "outputs": [],
   "source": [
    "# @author - Nikhil Bambhroliya"
   ]
  },
  {
   "cell_type": "markdown",
   "metadata": {
    "id": "-djjf25nnixS"
   },
   "source": [
    "#Linear regression using PyTorch built-ins"
   ]
  },
  {
   "cell_type": "markdown",
   "metadata": {
    "id": "1l99RqVDoTr7"
   },
   "source": [
    "##Define DataLoader"
   ]
  },
  {
   "cell_type": "code",
   "execution_count": 4,
   "metadata": {
    "executionInfo": {
     "elapsed": 573,
     "status": "ok",
     "timestamp": 1640588504132,
     "user": {
      "displayName": "CE009_Charvit_ Ardeshna",
      "photoUrl": "https://lh3.googleusercontent.com/a/default-user=s64",
      "userId": "16826116600872100489"
     },
     "user_tz": -330
    },
    "id": "nIAbjItBseAL"
   },
   "outputs": [],
   "source": [
    "import numpy as np\n",
    "import torch"
   ]
  },
  {
   "cell_type": "code",
   "execution_count": 12,
   "metadata": {
    "executionInfo": {
     "elapsed": 5,
     "status": "ok",
     "timestamp": 1640588582776,
     "user": {
      "displayName": "CE009_Charvit_ Ardeshna",
      "photoUrl": "https://lh3.googleusercontent.com/a/default-user=s64",
      "userId": "16826116600872100489"
     },
     "user_tz": -330
    },
    "id": "9QfVRWrSrSDi"
   },
   "outputs": [],
   "source": [
    "# Targets (apples, oranges)\n",
    "inputs = np.array([[73, 67, 43], \n",
    "                   [91, 88, 64], \n",
    "                   [87, 134, 58], \n",
    "                   [102, 43, 37], \n",
    "                   [69, 96, 70]], dtype='float32')"
   ]
  },
  {
   "cell_type": "code",
   "execution_count": 11,
   "metadata": {
    "executionInfo": {
     "elapsed": 408,
     "status": "ok",
     "timestamp": 1640588581084,
     "user": {
      "displayName": "CE009_Charvit_ Ardeshna",
      "photoUrl": "https://lh3.googleusercontent.com/a/default-user=s64",
      "userId": "16826116600872100489"
     },
     "user_tz": -330
    },
    "id": "2gtm2FkYsati"
   },
   "outputs": [],
   "source": [
    "# Targets (apples, oranges)\n",
    "targets = np.array([[56, 70], \n",
    "                    [81, 101], \n",
    "                    [119, 133], \n",
    "                    [22, 37], \n",
    "                    [103, 119]], dtype='float32')"
   ]
  },
  {
   "cell_type": "code",
   "execution_count": 14,
   "metadata": {
    "executionInfo": {
     "elapsed": 413,
     "status": "ok",
     "timestamp": 1640588607789,
     "user": {
      "displayName": "CE009_Charvit_ Ardeshna",
      "photoUrl": "https://lh3.googleusercontent.com/a/default-user=s64",
      "userId": "16826116600872100489"
     },
     "user_tz": -330
    },
    "id": "Hwfpjghqs3Wq"
   },
   "outputs": [],
   "source": [
    "inputs = torch.from_numpy(inputs)\n",
    "targets = torch.from_numpy(targets)\n"
   ]
  },
  {
   "cell_type": "code",
   "execution_count": 7,
   "metadata": {
    "executionInfo": {
     "elapsed": 404,
     "status": "ok",
     "timestamp": 1640588509773,
     "user": {
      "displayName": "CE009_Charvit_ Ardeshna",
      "photoUrl": "https://lh3.googleusercontent.com/a/default-user=s64",
      "userId": "16826116600872100489"
     },
     "user_tz": -330
    },
    "id": "g3hY2zBKllKa"
   },
   "outputs": [],
   "source": [
    "from torch.utils.data import TensorDataset"
   ]
  },
  {
   "cell_type": "code",
   "execution_count": 15,
   "metadata": {
    "colab": {
     "base_uri": "https://localhost:8080/"
    },
    "executionInfo": {
     "elapsed": 5,
     "status": "ok",
     "timestamp": 1640588610150,
     "user": {
      "displayName": "CE009_Charvit_ Ardeshna",
      "photoUrl": "https://lh3.googleusercontent.com/a/default-user=s64",
      "userId": "16826116600872100489"
     },
     "user_tz": -330
    },
    "id": "PmNoPrlplm7i",
    "outputId": "c63e2052-752e-4d12-b3f5-0121216b7224"
   },
   "outputs": [
    {
     "data": {
      "text/plain": [
       "(tensor([[ 73.,  67.,  43.],\n",
       "         [ 91.,  88.,  64.],\n",
       "         [ 87., 134.,  58.]]), tensor([[ 56.,  70.],\n",
       "         [ 81., 101.],\n",
       "         [119., 133.]]))"
      ]
     },
     "execution_count": 15,
     "metadata": {},
     "output_type": "execute_result"
    }
   ],
   "source": [
    "train_ds = TensorDataset(inputs, targets)\n",
    "train_ds[0:3]"
   ]
  },
  {
   "cell_type": "code",
   "execution_count": 16,
   "metadata": {
    "executionInfo": {
     "elapsed": 389,
     "status": "ok",
     "timestamp": 1640588618162,
     "user": {
      "displayName": "CE009_Charvit_ Ardeshna",
      "photoUrl": "https://lh3.googleusercontent.com/a/default-user=s64",
      "userId": "16826116600872100489"
     },
     "user_tz": -330
    },
    "id": "vlhQFbaRlo2a"
   },
   "outputs": [],
   "source": [
    "from torch.utils.data import DataLoader"
   ]
  },
  {
   "cell_type": "code",
   "execution_count": 17,
   "metadata": {
    "executionInfo": {
     "elapsed": 5,
     "status": "ok",
     "timestamp": 1640588620118,
     "user": {
      "displayName": "CE009_Charvit_ Ardeshna",
      "photoUrl": "https://lh3.googleusercontent.com/a/default-user=s64",
      "userId": "16826116600872100489"
     },
     "user_tz": -330
    },
    "id": "KqL7IXN7lrRj"
   },
   "outputs": [],
   "source": [
    "batch_size = 5\n",
    "train_dl = DataLoader(train_ds, batch_size, shuffle=True)"
   ]
  },
  {
   "cell_type": "code",
   "execution_count": 18,
   "metadata": {
    "colab": {
     "base_uri": "https://localhost:8080/"
    },
    "executionInfo": {
     "elapsed": 7,
     "status": "ok",
     "timestamp": 1640588621780,
     "user": {
      "displayName": "CE009_Charvit_ Ardeshna",
      "photoUrl": "https://lh3.googleusercontent.com/a/default-user=s64",
      "userId": "16826116600872100489"
     },
     "user_tz": -330
    },
    "id": "_I0GOb-7lt3j",
    "outputId": "78056e1a-0f1c-448d-f2b5-5765474ab2d4"
   },
   "outputs": [
    {
     "name": "stdout",
     "output_type": "stream",
     "text": [
      "tensor([[ 73.,  67.,  43.],\n",
      "        [ 69.,  96.,  70.],\n",
      "        [ 87., 134.,  58.],\n",
      "        [ 91.,  88.,  64.],\n",
      "        [102.,  43.,  37.]])\n",
      "tensor([[ 56.,  70.],\n",
      "        [103., 119.],\n",
      "        [119., 133.],\n",
      "        [ 81., 101.],\n",
      "        [ 22.,  37.]])\n"
     ]
    }
   ],
   "source": [
    "for xb, yb in train_dl:\n",
    "    print(xb)\n",
    "    print(yb)\n",
    "    break"
   ]
  },
  {
   "cell_type": "markdown",
   "metadata": {
    "id": "RwAvQRfonbDr"
   },
   "source": [
    "##nn.Linear"
   ]
  },
  {
   "cell_type": "code",
   "execution_count": 19,
   "metadata": {
    "executionInfo": {
     "elapsed": 393,
     "status": "ok",
     "timestamp": 1640588624814,
     "user": {
      "displayName": "CE009_Charvit_ Ardeshna",
      "photoUrl": "https://lh3.googleusercontent.com/a/default-user=s64",
      "userId": "16826116600872100489"
     },
     "user_tz": -330
    },
    "id": "4T7TnzVrmD2j"
   },
   "outputs": [],
   "source": [
    "import torch.nn as nn"
   ]
  },
  {
   "cell_type": "code",
   "execution_count": 20,
   "metadata": {
    "colab": {
     "base_uri": "https://localhost:8080/"
    },
    "executionInfo": {
     "elapsed": 6,
     "status": "ok",
     "timestamp": 1640588626250,
     "user": {
      "displayName": "CE009_Charvit_ Ardeshna",
      "photoUrl": "https://lh3.googleusercontent.com/a/default-user=s64",
      "userId": "16826116600872100489"
     },
     "user_tz": -330
    },
    "id": "gKgLZ2JWlvzL",
    "outputId": "0d4c6471-1432-4644-aa75-83518d2f6d6b"
   },
   "outputs": [
    {
     "name": "stdout",
     "output_type": "stream",
     "text": [
      "Parameter containing:\n",
      "tensor([[ 0.3723, -0.2983, -0.0499],\n",
      "        [ 0.5711,  0.1598,  0.3870]], requires_grad=True)\n",
      "Parameter containing:\n",
      "tensor([0.1427, 0.0071], requires_grad=True)\n"
     ]
    }
   ],
   "source": [
    "model = nn.Linear(3, 2)\n",
    "print(model.weight)\n",
    "print(model.bias)"
   ]
  },
  {
   "cell_type": "code",
   "execution_count": 21,
   "metadata": {
    "colab": {
     "base_uri": "https://localhost:8080/"
    },
    "executionInfo": {
     "elapsed": 4,
     "status": "ok",
     "timestamp": 1640588627885,
     "user": {
      "displayName": "CE009_Charvit_ Ardeshna",
      "photoUrl": "https://lh3.googleusercontent.com/a/default-user=s64",
      "userId": "16826116600872100489"
     },
     "user_tz": -330
    },
    "id": "0eLEcrvslx8T",
    "outputId": "c6215be7-a50c-4ba3-80d6-2e28f6405607"
   },
   "outputs": [
    {
     "data": {
      "text/plain": [
       "[Parameter containing:\n",
       " tensor([[ 0.3723, -0.2983, -0.0499],\n",
       "         [ 0.5711,  0.1598,  0.3870]], requires_grad=True),\n",
       " Parameter containing:\n",
       " tensor([0.1427, 0.0071], requires_grad=True)]"
      ]
     },
     "execution_count": 21,
     "metadata": {},
     "output_type": "execute_result"
    }
   ],
   "source": [
    "list(model.parameters())"
   ]
  },
  {
   "cell_type": "code",
   "execution_count": 22,
   "metadata": {
    "colab": {
     "base_uri": "https://localhost:8080/"
    },
    "executionInfo": {
     "elapsed": 2,
     "status": "ok",
     "timestamp": 1640588629544,
     "user": {
      "displayName": "CE009_Charvit_ Ardeshna",
      "photoUrl": "https://lh3.googleusercontent.com/a/default-user=s64",
      "userId": "16826116600872100489"
     },
     "user_tz": -330
    },
    "id": "QT9BdCGzl0BL",
    "outputId": "5d917448-3e72-41ab-bc59-6846daf39f20"
   },
   "outputs": [
    {
     "data": {
      "text/plain": [
       "tensor([[  5.1897,  69.0484],\n",
       "        [  4.5788,  90.8122],\n",
       "        [-10.3329,  93.5587],\n",
       "        [ 23.4464,  79.4517],\n",
       "        [ -6.2987,  81.8490]], grad_fn=<AddmmBackward0>)"
      ]
     },
     "execution_count": 22,
     "metadata": {},
     "output_type": "execute_result"
    }
   ],
   "source": [
    "preds = model(inputs)\n",
    "preds"
   ]
  },
  {
   "cell_type": "markdown",
   "metadata": {
    "id": "203MQTjFnW5b"
   },
   "source": [
    "##loss functions"
   ]
  },
  {
   "cell_type": "code",
   "execution_count": 23,
   "metadata": {
    "executionInfo": {
     "elapsed": 5,
     "status": "ok",
     "timestamp": 1640588631754,
     "user": {
      "displayName": "CE009_Charvit_ Ardeshna",
      "photoUrl": "https://lh3.googleusercontent.com/a/default-user=s64",
      "userId": "16826116600872100489"
     },
     "user_tz": -330
    },
    "id": "dI09YXcoka5z"
   },
   "outputs": [],
   "source": [
    "import torch.nn.functional as F"
   ]
  },
  {
   "cell_type": "code",
   "execution_count": 24,
   "metadata": {
    "executionInfo": {
     "elapsed": 2,
     "status": "ok",
     "timestamp": 1640588633424,
     "user": {
      "displayName": "CE009_Charvit_ Ardeshna",
      "photoUrl": "https://lh3.googleusercontent.com/a/default-user=s64",
      "userId": "16826116600872100489"
     },
     "user_tz": -330
    },
    "id": "5Lc78rLJkdVr"
   },
   "outputs": [],
   "source": [
    "loss_fn = F.mse_loss"
   ]
  },
  {
   "cell_type": "code",
   "execution_count": 32,
   "metadata": {
    "colab": {
     "base_uri": "https://localhost:8080/"
    },
    "executionInfo": {
     "elapsed": 383,
     "status": "ok",
     "timestamp": 1640588664011,
     "user": {
      "displayName": "CE009_Charvit_ Ardeshna",
      "photoUrl": "https://lh3.googleusercontent.com/a/default-user=s64",
      "userId": "16826116600872100489"
     },
     "user_tz": -330
    },
    "id": "biwaZfR0kfoz",
    "outputId": "c6ecbc6b-1c97-4411-942d-3dbb0e8e38a1"
   },
   "outputs": [
    {
     "name": "stdout",
     "output_type": "stream",
     "text": [
      "tensor(296.3472, grad_fn=<MseLossBackward0>)\n"
     ]
    }
   ],
   "source": [
    "loss = loss_fn(model(inputs), targets)\n",
    "print(loss)"
   ]
  },
  {
   "cell_type": "markdown",
   "metadata": {
    "id": "rk1SCJvXnT1j"
   },
   "source": [
    "##Optimizer"
   ]
  },
  {
   "cell_type": "code",
   "execution_count": 26,
   "metadata": {
    "executionInfo": {
     "elapsed": 5,
     "status": "ok",
     "timestamp": 1640588637981,
     "user": {
      "displayName": "CE009_Charvit_ Ardeshna",
      "photoUrl": "https://lh3.googleusercontent.com/a/default-user=s64",
      "userId": "16826116600872100489"
     },
     "user_tz": -330
    },
    "id": "-go4XifAkoyj"
   },
   "outputs": [],
   "source": [
    "opt = torch.optim.SGD(model.parameters(), lr=1e-5)"
   ]
  },
  {
   "cell_type": "markdown",
   "metadata": {
    "id": "UH0bh7G8nPhj"
   },
   "source": [
    "##Train for multiple epochs"
   ]
  },
  {
   "cell_type": "code",
   "execution_count": 27,
   "metadata": {
    "executionInfo": {
     "elapsed": 412,
     "status": "ok",
     "timestamp": 1640588640834,
     "user": {
      "displayName": "CE009_Charvit_ Ardeshna",
      "photoUrl": "https://lh3.googleusercontent.com/a/default-user=s64",
      "userId": "16826116600872100489"
     },
     "user_tz": -330
    },
    "id": "j2YABoUjkEqb"
   },
   "outputs": [],
   "source": [
    "def fit(num_epochs, model, loss_fn, opt, train_dl):\n",
    "    \n",
    "    # Repeat for given number of epochs\n",
    "    for epoch in range(num_epochs):\n",
    "        \n",
    "        # Train with batches of data\n",
    "        for xb,yb in train_dl:\n",
    "            \n",
    "            # 1. Generate predictions\n",
    "            pred = model(xb)\n",
    "            \n",
    "            # 2. Calculate loss\n",
    "            loss = loss_fn(pred, yb)\n",
    "            \n",
    "            # 3. Compute gradients\n",
    "            loss.backward()\n",
    "            \n",
    "            # 4. Update parameters using gradients\n",
    "            opt.step()\n",
    "            \n",
    "            # 5. Reset the gradients to zero\n",
    "            opt.zero_grad()\n",
    "        \n",
    "        # Print the progress\n",
    "        if (epoch+1) % 10 == 0:\n",
    "            print('Epoch [{}/{}], Loss: {:.4f}'.format(epoch+1, num_epochs, loss.item()))"
   ]
  },
  {
   "cell_type": "code",
   "execution_count": 28,
   "metadata": {
    "colab": {
     "base_uri": "https://localhost:8080/"
    },
    "executionInfo": {
     "elapsed": 651,
     "status": "ok",
     "timestamp": 1640588643192,
     "user": {
      "displayName": "CE009_Charvit_ Ardeshna",
      "photoUrl": "https://lh3.googleusercontent.com/a/default-user=s64",
      "userId": "16826116600872100489"
     },
     "user_tz": -330
    },
    "id": "Snm5kBAXkGf6",
    "outputId": "e8e7f627-d365-493d-934a-8c87ca59e5b6"
   },
   "outputs": [
    {
     "name": "stdout",
     "output_type": "stream",
     "text": [
      "Epoch [10/100], Loss: 1002.8874\n",
      "Epoch [20/100], Loss: 806.6610\n",
      "Epoch [30/100], Loss: 710.6458\n",
      "Epoch [40/100], Loss: 627.5411\n",
      "Epoch [50/100], Loss: 554.3514\n",
      "Epoch [60/100], Loss: 489.8662\n",
      "Epoch [70/100], Loss: 433.0467\n",
      "Epoch [80/100], Loss: 382.9787\n",
      "Epoch [90/100], Loss: 338.8569\n",
      "Epoch [100/100], Loss: 299.9723\n"
     ]
    }
   ],
   "source": [
    "fit(100, model, loss_fn, opt, train_dl)"
   ]
  },
  {
   "cell_type": "code",
   "execution_count": 29,
   "metadata": {
    "colab": {
     "base_uri": "https://localhost:8080/"
    },
    "executionInfo": {
     "elapsed": 5,
     "status": "ok",
     "timestamp": 1640588644484,
     "user": {
      "displayName": "CE009_Charvit_ Ardeshna",
      "photoUrl": "https://lh3.googleusercontent.com/a/default-user=s64",
      "userId": "16826116600872100489"
     },
     "user_tz": -330
    },
    "id": "ShwLMjzGmWXz",
    "outputId": "3ddac15e-1e29-4103-9d63-d82a70f5ca7a"
   },
   "outputs": [
    {
     "data": {
      "text/plain": [
       "tensor([[ 63.2989,  75.2774],\n",
       "        [ 84.0186, 101.5356],\n",
       "        [104.7123, 123.0028],\n",
       "        [ 56.3571,  65.6361],\n",
       "        [ 84.5149, 103.9424]], grad_fn=<AddmmBackward0>)"
      ]
     },
     "execution_count": 29,
     "metadata": {},
     "output_type": "execute_result"
    }
   ],
   "source": [
    "prediction = model(inputs)\n",
    "prediction"
   ]
  },
  {
   "cell_type": "code",
   "execution_count": 30,
   "metadata": {
    "colab": {
     "base_uri": "https://localhost:8080/"
    },
    "executionInfo": {
     "elapsed": 387,
     "status": "ok",
     "timestamp": 1640588647634,
     "user": {
      "displayName": "CE009_Charvit_ Ardeshna",
      "photoUrl": "https://lh3.googleusercontent.com/a/default-user=s64",
      "userId": "16826116600872100489"
     },
     "user_tz": -330
    },
    "id": "XNSELZZkmdrD",
    "outputId": "7fa84f95-6290-4534-8b37-22fbdee37d00"
   },
   "outputs": [
    {
     "data": {
      "text/plain": [
       "tensor([[ 56.,  70.],\n",
       "        [ 81., 101.],\n",
       "        [119., 133.],\n",
       "        [ 22.,  37.],\n",
       "        [103., 119.]])"
      ]
     },
     "execution_count": 30,
     "metadata": {},
     "output_type": "execute_result"
    }
   ],
   "source": [
    "targets"
   ]
  },
  {
   "cell_type": "code",
   "execution_count": 31,
   "metadata": {
    "colab": {
     "base_uri": "https://localhost:8080/"
    },
    "executionInfo": {
     "elapsed": 5,
     "status": "ok",
     "timestamp": 1640588649106,
     "user": {
      "displayName": "CE009_Charvit_ Ardeshna",
      "photoUrl": "https://lh3.googleusercontent.com/a/default-user=s64",
      "userId": "16826116600872100489"
     },
     "user_tz": -330
    },
    "id": "Xku_KyoymiRC",
    "outputId": "e8175122-0493-430c-b045-c1c418e0e0de"
   },
   "outputs": [
    {
     "data": {
      "text/plain": [
       "tensor([[62.0236, 74.0284]], grad_fn=<AddmmBackward0>)"
      ]
     },
     "execution_count": 31,
     "metadata": {},
     "output_type": "execute_result"
    }
   ],
   "source": [
    "model(torch.tensor([[75, 63, 44.]]))"
   ]
  }
 ],
 "metadata": {
  "colab": {
   "authorship_tag": "ABX9TyM7mNU/He12zILL8TEHAQCA",
   "collapsed_sections": [],
   "name": "lab4answersPart2.ipynb",
   "provenance": []
  },
  "kernelspec": {
   "display_name": "Python 3",
   "language": "python",
   "name": "python3"
  },
  "language_info": {
   "codemirror_mode": {
    "name": "ipython",
    "version": 3
   },
   "file_extension": ".py",
   "mimetype": "text/x-python",
   "name": "python",
   "nbconvert_exporter": "python",
   "pygments_lexer": "ipython3",
   "version": "3.8.5"
  }
 },
 "nbformat": 4,
 "nbformat_minor": 1
}
